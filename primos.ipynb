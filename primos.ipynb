{
 "cells": [
  {
   "cell_type": "code",
   "execution_count": 1,
   "metadata": {},
   "outputs": [
    {
     "name": "stdout",
     "output_type": "stream",
     "text": [
      "7122 2878\n"
     ]
    }
   ],
   "source": [
    "contador=[]\n",
    "for i in range(0,10000):\n",
    "    number = 11+3*i\n",
    "    for i in range(2, number):\n",
    "        if (number % i) == 0:\n",
    "            contador.append(0)\n",
    "            break\n",
    "    else:\n",
    "        contador.append(1)\n",
    "print(contador.count(0),contador.count(1))"
   ]
  },
  {
   "cell_type": "code",
   "execution_count": 53,
   "metadata": {},
   "outputs": [
    {
     "name": "stdout",
     "output_type": "stream",
     "text": [
      "6739 3261\n"
     ]
    }
   ],
   "source": [
    "contador=[]\n",
    "for i in range(0,10000):\n",
    "    number = 13+30*i\n",
    "    for i in range(2, number):\n",
    "        if (number % i) == 0:\n",
    "            contador.append(0)\n",
    "            break\n",
    "    else:\n",
    "        contador.append(1)\n",
    "print(contador.count(0),contador.count(1))"
   ]
  },
  {
   "cell_type": "code",
   "execution_count": 54,
   "metadata": {},
   "outputs": [
    {
     "name": "stdout",
     "output_type": "stream",
     "text": [
      "6733 3267\n"
     ]
    }
   ],
   "source": [
    "contador=[]\n",
    "for i in range(0,10000):\n",
    "    number = 17+30*i\n",
    "    for i in range(2, number):\n",
    "        if (number % i) == 0:\n",
    "            contador.append(0)\n",
    "            break\n",
    "    else:\n",
    "        contador.append(1)\n",
    "print(contador.count(0),contador.count(1))"
   ]
  },
  {
   "cell_type": "code",
   "execution_count": 41,
   "metadata": {},
   "outputs": [
    {
     "name": "stdout",
     "output_type": "stream",
     "text": [
      "6773 3227\n"
     ]
    }
   ],
   "source": [
    "contador=[]\n",
    "for i in range(0,10000):\n",
    "    number = 19+30*i\n",
    "    for i in range(2, number):\n",
    "        if (number % i) == 0:\n",
    "            contador.append(0)\n",
    "            break\n",
    "    else:\n",
    "        contador.append(1)\n",
    "print(contador.count(0),contador.count(1))"
   ]
  },
  {
   "cell_type": "code",
   "execution_count": 43,
   "metadata": {},
   "outputs": [
    {
     "name": "stdout",
     "output_type": "stream",
     "text": [
      "6741 3259\n"
     ]
    }
   ],
   "source": [
    "contador=[]\n",
    "for i in range(0,10000):\n",
    "    number = 59+30*i\n",
    "    # prime number is always greater than 1\n",
    "    for i in range(2, number):\n",
    "        if (number % i) == 0:\n",
    "            contador.append(0)\n",
    "            break\n",
    "    else:\n",
    "        #print(number, \"is a prime number\")\n",
    "        contador.append(1)\n",
    "print(contador.count(0),contador.count(1))"
   ]
  },
  {
   "cell_type": "code",
   "execution_count": 44,
   "metadata": {},
   "outputs": [
    {
     "name": "stdout",
     "output_type": "stream",
     "text": [
      "6771 3229\n"
     ]
    }
   ],
   "source": [
    "contador=[]\n",
    "for i in range(0,10000):\n",
    "    number = 61+30*i\n",
    "    # prime number is always greater than 1\n",
    "    for i in range(2, number):\n",
    "        if (number % i) == 0:\n",
    "            contador.append(0)\n",
    "            break\n",
    "    else:\n",
    "        #print(number, \"is a prime number\")\n",
    "        contador.append(1)\n",
    "print(contador.count(0),contador.count(1))"
   ]
  },
  {
   "cell_type": "code",
   "execution_count": 48,
   "metadata": {},
   "outputs": [
    {
     "name": "stdout",
     "output_type": "stream",
     "text": [
      "6740 3260\n"
     ]
    }
   ],
   "source": [
    "contador=[]\n",
    "for i in range(0,10000):\n",
    "    number = 617+30*i\n",
    "    for i in range(2, number):\n",
    "        if (number % i) == 0:\n",
    "            contador.append(0)\n",
    "            break\n",
    "    else:\n",
    "        contador.append(1)\n",
    "print(contador.count(0),contador.count(1))"
   ]
  },
  {
   "cell_type": "code",
   "execution_count": 49,
   "metadata": {},
   "outputs": [
    {
     "name": "stdout",
     "output_type": "stream",
     "text": [
      "6778 3222\n"
     ]
    }
   ],
   "source": [
    "contador=[]\n",
    "for i in range(0,10000):\n",
    "    number = 619+30*i\n",
    "    for i in range(2, number):\n",
    "        if (number % i) == 0:\n",
    "            contador.append(0)\n",
    "            break\n",
    "    else:\n",
    "        contador.append(1)\n",
    "print(contador.count(0),contador.count(1))"
   ]
  },
  {
   "cell_type": "code",
   "execution_count": 69,
   "metadata": {},
   "outputs": [
    {
     "name": "stdout",
     "output_type": "stream",
     "text": [
      "7094 2906\n"
     ]
    }
   ],
   "source": [
    "contador=[]\n",
    "for i in range(0,10000):\n",
    "    number = 304301+30*i\n",
    "    for i in range(2, number):\n",
    "        if (number % i) == 0:\n",
    "            contador.append(0)\n",
    "            break\n",
    "    else:\n",
    "        contador.append(1)\n",
    "print(contador.count(0),contador.count(1))"
   ]
  },
  {
   "cell_type": "code",
   "execution_count": 71,
   "metadata": {},
   "outputs": [
    {
     "name": "stdout",
     "output_type": "stream",
     "text": [
      "7113 2887\n"
     ]
    }
   ],
   "source": [
    "contador=[]\n",
    "for i in range(0,10000):\n",
    "    number = 304303+30*i\n",
    "    for i in range(2, number):\n",
    "        if (number % i) == 0:\n",
    "            contador.append(0)\n",
    "            break\n",
    "    else:\n",
    "        contador.append(1)\n",
    "print(contador.count(0),contador.count(1))"
   ]
  },
  {
   "cell_type": "code",
   "execution_count": 1,
   "metadata": {},
   "outputs": [
    {
     "name": "stdout",
     "output_type": "stream",
     "text": [
      "6752 6496\n"
     ]
    }
   ],
   "source": [
    "contador=[]\n",
    "for i in range(0,10000):\n",
    "    number = 11+30*i\n",
    "    for i in range(2, number):\n",
    "        if (number % i) == 0:\n",
    "            contador.append(0) #0 cada vez que nos equivocamos\n",
    "            break\n",
    "    else:\n",
    "        contador.append(1) #1 por el que pillamos\n",
    "        if ((number+2) % i) == 0:\n",
    "            contador.append(0) # 0 si no tiene gemelo\n",
    "        else:\n",
    "            contador.append(1) #1 si tiene gemelo\n",
    "print(contador.count(0),contador.count(1))\n",
    "# si fuera agregando nuevas combinaciones de gemelos, podría ir optimizando aún más la busqueda "
   ]
  },
  {
   "cell_type": "code",
   "execution_count": 3,
   "metadata": {},
   "outputs": [
    {
     "name": "stdout",
     "output_type": "stream",
     "text": [
      "72866 54268\n"
     ]
    }
   ],
   "source": [
    "contador=[]\n",
    "for i in range(0,100000):\n",
    "    number = 11+30*i\n",
    "    for i in range(2, number):\n",
    "        if (number % i) == 0:\n",
    "            contador.append(0) #0 cada vez que nos equivocamos\n",
    "            break\n",
    "    else:\n",
    "        contador.append(1) #1 por el que pillamos\n",
    "        if ((number+2) % i) == 0:\n",
    "            contador.append(0) # 0 si no tiene gemelo\n",
    "        else:\n",
    "            contador.append(1) #1 si tiene gemelo\n",
    "print(contador.count(0),contador.count(1))\n",
    "# si fuera agregando nuevas combinaciones de gemelos, podría ir optimizando aún más la busqueda "
   ]
  },
  {
   "cell_type": "code",
   "execution_count": null,
   "metadata": {},
   "outputs": [],
   "source": []
  }
 ],
 "metadata": {
  "kernelspec": {
   "display_name": "Python 3",
   "language": "python",
   "name": "python3"
  },
  "language_info": {
   "codemirror_mode": {
    "name": "ipython",
    "version": 3
   },
   "file_extension": ".py",
   "mimetype": "text/x-python",
   "name": "python",
   "nbconvert_exporter": "python",
   "pygments_lexer": "ipython3",
   "version": "3.7.3"
  }
 },
 "nbformat": 4,
 "nbformat_minor": 2
}
