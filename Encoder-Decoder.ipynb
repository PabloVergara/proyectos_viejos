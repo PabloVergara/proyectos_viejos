{
 "cells": [
  {
   "cell_type": "code",
   "execution_count": 1,
   "metadata": {},
   "outputs": [
    {
     "ename": "ModuleNotFoundError",
     "evalue": "No module named 'tensorflow.layers'",
     "output_type": "error",
     "traceback": [
      "\u001b[1;31m---------------------------------------------------------------------------\u001b[0m",
      "\u001b[1;31mModuleNotFoundError\u001b[0m                       Traceback (most recent call last)",
      "\u001b[1;32m<ipython-input-1-5d0038c27a98>\u001b[0m in \u001b[0;36m<module>\u001b[1;34m\u001b[0m\n\u001b[0;32m     10\u001b[0m \u001b[1;32mfrom\u001b[0m \u001b[0mtensorflow\u001b[0m\u001b[1;33m.\u001b[0m\u001b[0mkeras\u001b[0m\u001b[1;33m.\u001b[0m\u001b[0mlayers\u001b[0m \u001b[1;32mimport\u001b[0m \u001b[0mFlatten\u001b[0m\u001b[1;33m\u001b[0m\u001b[1;33m\u001b[0m\u001b[0m\n\u001b[0;32m     11\u001b[0m \u001b[1;32mfrom\u001b[0m \u001b[0mtensorflow\u001b[0m\u001b[1;33m.\u001b[0m\u001b[0mkeras\u001b[0m\u001b[1;33m.\u001b[0m\u001b[0mlayers\u001b[0m \u001b[1;32mimport\u001b[0m \u001b[0mTimeDistributed\u001b[0m\u001b[1;33m\u001b[0m\u001b[1;33m\u001b[0m\u001b[0m\n\u001b[1;32m---> 12\u001b[1;33m \u001b[1;32mfrom\u001b[0m \u001b[0mtensorflow\u001b[0m\u001b[1;33m.\u001b[0m\u001b[0mlayers\u001b[0m \u001b[1;32mimport\u001b[0m \u001b[0mConv1D\u001b[0m\u001b[1;33m\u001b[0m\u001b[1;33m\u001b[0m\u001b[0m\n\u001b[0m\u001b[0;32m     13\u001b[0m \u001b[1;32mfrom\u001b[0m \u001b[0mtensorflow\u001b[0m\u001b[1;33m.\u001b[0m\u001b[0mlayers\u001b[0m \u001b[1;32mimport\u001b[0m \u001b[0mMaxPooling1D\u001b[0m\u001b[1;33m\u001b[0m\u001b[1;33m\u001b[0m\u001b[0m\n\u001b[0;32m     14\u001b[0m \u001b[1;32mimport\u001b[0m \u001b[0mmatplotlib\u001b[0m\u001b[1;33m\u001b[0m\u001b[1;33m\u001b[0m\u001b[0m\n",
      "\u001b[1;31mModuleNotFoundError\u001b[0m: No module named 'tensorflow.layers'"
     ]
    }
   ],
   "source": [
    "# univariate cnn lstm example\n",
    "import numpy as np\n",
    "import pandas as pd\n",
    "from numpy import array\n",
    "import tensorflow as tf\n",
    "from tensorflow.keras.models import Sequential\n",
    "from tensorflow.keras.layers import LSTM\n",
    "from tensorflow.keras.layers import Dense\n",
    "from tensorflow.keras.layers import RepeatVector\n",
    "from tensorflow.keras.layers import Flatten\n",
    "from tensorflow.keras.layers import TimeDistributed\n",
    "from tensorflow.layers import Conv1D\n",
    "from tensorflow.layers import MaxPooling1D\n",
    "import matplotlib\n",
    "import matplotlib.pyplot as plt"
   ]
  },
  {
   "cell_type": "code",
   "execution_count": null,
   "metadata": {},
   "outputs": [],
   "source": [
    "# split a univariate sequence into samples\n",
    "def split_sequence(sequence, n_steps_in, n_steps_out):\n",
    "\tX, y = list(), list()\n",
    "\tfor i in range(len(sequence)):\n",
    "\t\t# find the end of this pattern\n",
    "\t\tend_ix = i + n_steps_in\n",
    "\t\tout_end_ix = end_ix + n_steps_out\n",
    "\t\t# check if we are beyond the sequence\n",
    "\t\tif out_end_ix > len(sequence):\n",
    "\t\t\tbreak\n",
    "\t\t# gather input and output parts of the pattern\n",
    "\t\tseq_x, seq_y = sequence[i:end_ix], sequence[end_ix:out_end_ix]\n",
    "\t\tX.append(seq_x)\n",
    "\t\ty.append(seq_y)\n",
    "\treturn array(X), array(y)"
   ]
  },
  {
   "cell_type": "code",
   "execution_count": null,
   "metadata": {},
   "outputs": [],
   "source": [
    "# Dada una secuencia de Entrada\n",
    "data= pd.read_csv('EURUSD1.csv', \n",
    "                  sep=',', \n",
    "                  names=[\"time\", \"Open\", \"Max\", \"Min\", \"Close\", \"Volumen\"])"
   ]
  },
  {
   "cell_type": "code",
   "execution_count": 4,
   "metadata": {},
   "outputs": [],
   "source": [
    "raw_seq= pd.Series((data['Max'] - data['Max'].mean())/ (data['Max'].max() - data['Max'].min())).values\n",
    "raw_seq=raw_seq[1:]-raw_seq[:-1]"
   ]
  },
  {
   "cell_type": "code",
   "execution_count": 5,
   "metadata": {},
   "outputs": [],
   "source": [
    "# choose a number of time steps\n",
    "n_steps_in, n_steps_out = 3, 2\n",
    "n_features = 1"
   ]
  },
  {
   "cell_type": "code",
   "execution_count": 6,
   "metadata": {},
   "outputs": [],
   "source": [
    "# split into samples\n",
    "X, y = split_sequence(raw_seq, n_steps_in, n_steps_out)\n",
    "X_train=X[0:-1000]\n",
    "y_train=y[0:-1000]\n",
    "X_test=X[-1000:]\n",
    "y_test=y[-1000:]"
   ]
  },
  {
   "cell_type": "code",
   "execution_count": 7,
   "metadata": {},
   "outputs": [],
   "source": [
    "X_train = X_train.reshape((X_train.shape[0], X_train.shape[1], n_features))\n",
    "X_test = X_test.reshape((X_test.shape[0], X_test.shape[1], n_features))\n",
    "y_train = y_train.reshape((y_train.shape[0], y_train.shape[1], n_features))\n",
    "y_test = y_test.reshape((y_test.shape[0], y_test.shape[1], n_features))"
   ]
  },
  {
   "cell_type": "code",
   "execution_count": 8,
   "metadata": {},
   "outputs": [
    {
     "name": "stderr",
     "output_type": "stream",
     "text": [
      "WARNING: Logging before flag parsing goes to stderr.\n",
      "W1012 22:30:27.925275  8716 deprecation.py:506] From C:\\ProgramData\\Anaconda3\\lib\\site-packages\\tensorflow\\python\\ops\\init_ops.py:1251: calling VarianceScaling.__init__ (from tensorflow.python.ops.init_ops) with dtype is deprecated and will be removed in a future version.\n",
      "Instructions for updating:\n",
      "Call initializer instance with the dtype argument instead of passing it to the constructor\n"
     ]
    }
   ],
   "source": [
    "# define model\n",
    "model = Sequential()\n",
    "model.add(LSTM(100, activation='relu', input_shape=(n_steps_in, n_features)))\n",
    "model.add(RepeatVector(n_steps_out))\n",
    "model.add(LSTM(100, activation='sigmoid', return_sequences=True))\n",
    "model.add(TimeDistributed(Dense(1)))\n",
    "model.compile(optimizer='adam', loss='mse')"
   ]
  },
  {
   "cell_type": "code",
   "execution_count": 9,
   "metadata": {},
   "outputs": [
    {
     "name": "stderr",
     "output_type": "stream",
     "text": [
      "W1012 22:30:28.289303  8716 deprecation.py:323] From C:\\ProgramData\\Anaconda3\\lib\\site-packages\\tensorflow\\python\\ops\\math_grad.py:1250: add_dispatch_support.<locals>.wrapper (from tensorflow.python.ops.array_ops) is deprecated and will be removed in a future version.\n",
      "Instructions for updating:\n",
      "Use tf.where in 2.0, which has the same broadcast rule as np.where\n"
     ]
    },
    {
     "data": {
      "text/plain": [
       "<tensorflow.python.keras.callbacks.History at 0x219e0fae198>"
      ]
     },
     "execution_count": 9,
     "metadata": {},
     "output_type": "execute_result"
    }
   ],
   "source": [
    "model.fit(X_train, y_train, epochs=1000, verbose=0)"
   ]
  },
  {
   "cell_type": "code",
   "execution_count": 13,
   "metadata": {},
   "outputs": [],
   "source": [
    "y_trout = model.predict(X_train, verbose=0)"
   ]
  },
  {
   "cell_type": "code",
   "execution_count": 14,
   "metadata": {},
   "outputs": [
    {
     "data": {
      "image/png": "[encoded data removed]",
      "text/plain": [
       "<Figure size 432x288 with 1 Axes>"
      ]
     },
     "metadata": {
      "needs_background": "light"
     },
     "output_type": "display_data"
    }
   ],
   "source": [
    "fig, ax = plt.subplots()\n",
    "ax.plot(y_train[:,1], label='real')\n",
    "ax.plot(y_trout[:,1],label='predicción')\n",
    "ax.legend()\n",
    "plt.show()"
   ]
  },
  {
   "cell_type": "code",
   "execution_count": 26,
   "metadata": {},
   "outputs": [
    {
     "name": "stdout",
     "output_type": "stream",
     "text": [
      "MDA: 0.7356898238747553 Recall tipo 1:0.7098703888334995 Recall tipo 2: 0.760566762728146\n"
     ]
    }
   ],
   "source": [
    "N=[]\n",
    "vp=[]\n",
    "vn=[]\n",
    "fp=[]\n",
    "fn=[]\n",
    "for t in range (0,np.shape(y_trout[:,1])[0]-1):\n",
    "    if ((np.sign([y_train[t+1,1][0]-y_train[t,1][0]])*np.sign([y_trout[t+1,1][0]-y_train[t,1][0]]))>0 )& (np.sign([y_trout[t+1,1][0]-y_train[t,1][0]])>0) :\n",
    "        vp.append(1)\n",
    "        N.append(1)\n",
    "    elif ((np.sign([y_train[t+1,1][0]-y_train[t,1][0]])*np.sign([y_trout[t+1,1][0]-y_train[t,1][0]]))>0 )& (np.sign([y_trout[t+1,1][0]-y_train[t,1][0]]) <0):\n",
    "        vn.append(1)\n",
    "        N.append(1)\n",
    "    elif ((np.sign([y_train[t+1,1][0]-y_train[t,1][0]])*np.sign([y_trout[t+1,1][0]-y_train[t,1][0]]))<0 )& (np.sign([y_trout[t+1,1][0]-y_train[t,1][0]]) <0):\n",
    "        fn.append(1)\n",
    "        N.append(1)\n",
    "    elif ((np.sign([y_train[t+1,1][0]-y_train[t,1][0]])*np.sign([y_trout[t+1,1][0]-y_train[t,1][0]]))<0 )& (np.sign([y_trout[t+1,1][0]-y_train[t,1][0]])> 0):\n",
    "        fp.append(1)\n",
    "        N.append(1)\n",
    "MDA=1/sum(N)*(sum(vp)+sum(vn))\n",
    "recall_1= sum(vp)/(sum(vp)+sum(fn))\n",
    "recall_2= sum(vn)/(sum(vn)+sum(fp))\n",
    "MDA\n",
    "print('MDA: '+str(MDA),'Recall tipo 1:'+str(recall_1), 'Recall tipo 2: '+str(recall_2))"
   ]
  },
  {
   "cell_type": "code",
   "execution_count": 27,
   "metadata": {},
   "outputs": [
    {
     "data": {
      "image/png": "[encoded data removed]",
      "text/plain": [
       "<Figure size 432x288 with 1 Axes>"
      ]
     },
     "metadata": {
      "needs_background": "light"
     },
     "output_type": "display_data"
    }
   ],
   "source": [
    "# testeo\n",
    "y_tout = model.predict(X_test, verbose=0)\n",
    "np.shape(y_test[:,1])\n",
    "\n",
    "fig, ax = plt.subplots()\n",
    "ax.plot(y_test[:,1], label='real')\n",
    "ax.plot(y_tout[:,1],label='predicción')\n",
    "ax.legend()\n",
    "|plt.show()"
   ]
  },
  {
   "cell_type": "code",
   "execution_count": 29,
   "metadata": {},
   "outputs": [
    {
     "name": "stdout",
     "output_type": "stream",
     "text": [
      "MDA: 0.7242083758937692 Recall tipo 1:0.6915113871635611 Recall tipo 2: 0.7560483870967742\n"
     ]
    }
   ],
   "source": [
    "N=[]\n",
    "vp=[]\n",
    "vn=[]\n",
    "fp=[]\n",
    "fn=[]\n",
    "for t in range (0,np.shape(y_tout[:,1])[0]-1):\n",
    "    if ((np.sign([y_test[t+1,1][0]-y_test[t,1][0]])*np.sign([y_tout[t+1,1][0]-y_test[t,1][0]]))>0 )& (np.sign([y_tout[t+1,1][0]-y_test[t,1][0]])>0) :\n",
    "        vp.append(1)\n",
    "        N.append(1)\n",
    "    elif ((np.sign([y_test[t+1,1][0]-y_test[t,1][0]])*np.sign([y_tout[t+1,1][0]-y_test[t,1][0]]))>0 )& (np.sign([y_tout[t+1,1][0]-y_test[t,1][0]]) <0):\n",
    "        vn.append(1)\n",
    "        N.append(1)\n",
    "    elif ((np.sign([y_test[t+1,1][0]-y_test[t,1][0]])*np.sign([y_tout[t+1,1][0]-y_test[t,1][0]]))<0 )& (np.sign([y_tout[t+1,1][0]-y_test[t,1][0]]) <0):\n",
    "        fn.append(1)\n",
    "        N.append(1)\n",
    "    elif ((np.sign([y_test[t+1,1][0]-y_test[t,1][0]])*np.sign([y_tout[t+1,1][0]-y_test[t,1][0]]))<0 )& (np.sign([y_tout[t+1,1][0]-y_test[t,1][0]])> 0):\n",
    "        fp.append(1)\n",
    "        N.append(1)\n",
    "MDA=1/sum(N)*(sum(vp)+sum(vn))\n",
    "recall_1= sum(vp)/(sum(vp)+sum(fn))\n",
    "recall_2= sum(vn)/(sum(vn)+sum(fp))\n",
    "MDA\n",
    "print('MDA: '+str(MDA),'Recall tipo 1:'+str(recall_1), 'Recall tipo 2: '+str(recall_2))"
   ]
  },
  {
   "cell_type": "code",
   "execution_count": 44,
   "metadata": {},
   "outputs": [
    {
     "name": "stdout",
     "output_type": "stream",
     "text": [
      "MDA: 0.75 Recall tipo 1:1.0 Recall tipo 2: 0.4\n"
     ]
    }
   ],
   "source": [
    "N=[]\n",
    "vp=[]\n",
    "vn=[]\n",
    "fp=[]\n",
    "fn=[]\n",
    "for t in range (0,np.shape(y_tout[:,1])[0]-1):\n",
    "    if ((np.sign([y_test[t+1,1][0]-y_test[t,1][0]])*np.sign([y_tout[t+1,1][0]-y_test[t,1][0]]))>0 )& (np.sign([y_tout[t+1,1][0]-y_test[t,1][0]])>0) & (abs(y_tout[t+1,1][0])>abs(y_tout.mean()*3)):\n",
    "        vp.append(1)\n",
    "        N.append(1)\n",
    "    elif ((np.sign([y_test[t+1,1][0]-y_test[t,1][0]])*np.sign([y_tout[t+1,1][0]-y_test[t,1][0]]))>0 )& (np.sign([y_tout[t+1,1][0]-y_test[t,1][0]]) <0) & (abs(y_tout[t+1,1][0])>abs(y_tout.mean()*3)):\n",
    "        vn.append(1)\n",
    "        N.append(1)\n",
    "    elif ((np.sign([y_test[t+1,1][0]-y_test[t,1][0]])*np.sign([y_tout[t+1,1][0]-y_test[t,1][0]]))<0 )& (np.sign([y_tout[t+1,1][0]-y_test[t,1][0]]) <0) & (abs(y_tout[t+1,1][0])>abs(y_tout.mean()*3)) :\n",
    "        fn.append(1)\n",
    "        N.append(1)\n",
    "    elif ((np.sign([y_test[t+1,1][0]-y_test[t,1][0]])*np.sign([y_tout[t+1,1][0]-y_test[t,1][0]]))<0 )& (np.sign([y_tout[t+1,1][0]-y_test[t,1][0]])> 0)& (abs(y_tout[t+1,1][0])>abs(y_tout.mean()*3) ):\n",
    "        fp.append(1)\n",
    "        N.append(1)\n",
    "MDA=1/sum(N)*(sum(vp)+sum(vn))\n",
    "recall_1= sum(vp)/(sum(vp)+sum(fn))\n",
    "recall_2= sum(vn)/(sum(vn)+sum(fp))\n",
    "MDA\n",
    "print('MDA: '+str(MDA),'Recall tipo 1:'+str(recall_1), 'Recall tipo 2: '+str(recall_2))"
   ]
  },
  {
   "cell_type": "code",
   "execution_count": 51,
   "metadata": {},
   "outputs": [
    {
     "data": {
      "text/plain": [
       "[1, 1]"
      ]
     },
     "execution_count": 51,
     "metadata": {},
     "output_type": "execute_result"
    }
   ],
   "source": [
    "vn"
   ]
  },
  {
   "cell_type": "code",
   "execution_count": 52,
   "metadata": {},
   "outputs": [
    {
     "data": {
      "text/plain": [
       "[1, 1, 1]"
      ]
     },
     "execution_count": 52,
     "metadata": {},
     "output_type": "execute_result"
    }
   ],
   "source": [
    "fp"
   ]
  },
  {
   "cell_type": "code",
   "execution_count": 53,
   "metadata": {},
   "outputs": [
    {
     "data": {
      "text/plain": [
       "[1, 1, 1, 1, 1, 1, 1]"
      ]
     },
     "execution_count": 53,
     "metadata": {},
     "output_type": "execute_result"
    }
   ],
   "source": [
    "vp"
   ]
  },
  {
   "cell_type": "code",
   "execution_count": 54,
   "metadata": {},
   "outputs": [
    {
     "data": {
      "text/plain": [
       "[]"
      ]
     },
     "execution_count": 54,
     "metadata": {},
     "output_type": "execute_result"
    }
   ],
   "source": [
    "fn"
   ]
  },
  {
   "cell_type": "code",
   "execution_count": null,
   "metadata": {},
   "outputs": [],
   "source": [
    "67"
   ]
  }
 ],
 "metadata": {
  "kernelspec": {
   "display_name": "Python 3",
   "language": "python",
   "name": "python3"
  },
  "language_info": {
   "codemirror_mode": {
    "name": "ipython",
    "version": 3
   },
   "file_extension": ".py",
   "mimetype": "text/x-python",
   "name": "python",
   "nbconvert_exporter": "python",
   "pygments_lexer": "ipython3",
   "version": "3.7.4"
  }
 },
 "nbformat": 4,
 "nbformat_minor": 2
}
