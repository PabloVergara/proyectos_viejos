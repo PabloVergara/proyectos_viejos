{
 "cells": [
  {
   "cell_type": "code",
   "execution_count": 4,
   "metadata": {},
   "outputs": [
    {
     "name": "stdout",
     "output_type": "stream",
     "text": [
      "BMP L (256, 258)\n",
      "BMP L (256, 258)\n",
      "(258L, 256L) uint8\n",
      "(258L, 256L) uint8\n"
     ]
    }
   ],
   "source": [
    "#importacion de librerias\n",
    "from PIL import Image\n",
    "import numpy as N\n",
    "import matplotlib.pylab as pylab\n",
    "import webbrowser\n",
    "\n",
    "%matplotlib inline\n",
    "\n",
    "#archivo con imagen de entrada\n",
    "file1 = 'brain1.bmp'\n",
    "file2 = 'brain1_Rcortex.bmp'\n",
    "\n",
    "# carga imagen\n",
    "im = Image.open(file1)\n",
    "webbrowser.open(file1)\n",
    "im2 = Image.open(file2)\n",
    "webbrowser.open(file2)\n",
    "\n",
    "#formato, modo color y dimensiones de imagen\n",
    "print im.format, im.mode, im.size\n",
    "print im2.format, im2.mode, im2.size\n",
    "\n",
    "#convierte datos imagen a arreglo numpy\n",
    "im_array = N.array(im)\n",
    "mask = N.array(im2)\n",
    "\n",
    "#dimensiones y tipo de arreglo de datos de la imagen\n",
    "print im_array.shape, im_array.dtype\n",
    "print mask.shape, mask.dtype\n",
    "\n",
    "#aplica mascara a imagen 1\n",
    "dimX = im_array.shape[0]\n",
    "dimY = im_array.shape[1]\n",
    "maxValue = mask.max()\n",
    "\n",
    "#crea nuevo arreglo vacio\n",
    "out = N.zeros(mask.shape, 'uint8')\n",
    "\n",
    "for i in xrange(dimX):\n",
    "    for j in xrange(dimY):\n",
    "        if mask[i][j] == maxValue:\n",
    "        out[i][j] = im_array[i][j]\n"
   ]
  },
  {
   "cell_type": "code",
   "execution_count": 5,
   "metadata": {},
   "outputs": [
    {
     "data": {
      "text/plain": [
       "<matplotlib.colorbar.Colorbar at 0x7a90b70>"
      ]
     },
     "execution_count": 5,
     "metadata": {},
     "output_type": "execute_result"
    },
    {
     "data": {
      "image/png": "[encoded data removed]",
      "text/plain": [
       "<matplotlib.figure.Figure at 0x7a90b00>"
      ]
     },
     "metadata": {},
     "output_type": "display_data"
    }
   ],
   "source": [
    "#una forma mas eficiente ---------------\n",
    "out = N.zeros(mask.shape, 'uint8')\n",
    "ind = N.where(mask == maxValue)\n",
    "out[ind] = im_array[ind]\n",
    "\n",
    "#----------------------------------------\n",
    "#otra forma deja mascara en 1\n",
    "out = N.zeros(mask.shape, 'uint8')\n",
    "mask /= maxValue\n",
    "out = im_array*mask\n",
    "#----------------------------------------\n",
    "\n",
    "#despliega imagen usando matplotlib.pylab\n",
    "ax = pylab.matshow(out, cmap=pylab.cm.Greys_r)\n",
    "fm = pylab.get_current_fig_manager()\n",
    "fig = pylab.figure(fm.num)\n",
    "fig.colorbar(ax)\n",
    "#fig.show()\n"
   ]
  },
  {
   "cell_type": "code",
   "execution_count": null,
   "metadata": {
    "collapsed": true
   },
   "outputs": [],
   "source": []
  }
 ],
 "metadata": {
  "kernelspec": {
   "display_name": "Python 3",
   "language": "python",
   "name": "python3"
  },
  "language_info": {
   "codemirror_mode": {
    "name": "ipython",
    "version": 3
   },
   "file_extension": ".py",
   "mimetype": "text/x-python",
   "name": "python",
   "nbconvert_exporter": "python",
   "pygments_lexer": "ipython3",
   "version": "3.7.4"
  }
 },
 "nbformat": 4,
 "nbformat_minor": 2
}
