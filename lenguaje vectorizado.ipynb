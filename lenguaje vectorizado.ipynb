{
 "cells": [
  {
   "cell_type": "code",
   "execution_count": 1,
   "metadata": {},
   "outputs": [],
   "source": [
    "from gensim.models import KeyedVectors\n",
    "#https://github.com/PabloVergara/spanish-word-embeddings/blob/master/examples/Ejemplo_WordVectors.ipynb\n",
    "#https://github.com/mquezada/starsconf2018-word-embeddings\n"
   ]
  },
  {
   "cell_type": "code",
   "execution_count": 2,
   "metadata": {
    "scrolled": true
   },
   "outputs": [],
   "source": [
    "vectors = KeyedVectors.load_word2vec_format('C:/Users/pneira/Desktop/fasttext/fasttext-sbwc.3.6.e20.vec')"
   ]
  },
  {
   "cell_type": "code",
   "execution_count": null,
   "metadata": {},
   "outputs": [],
   "source": []
  },
  {
   "cell_type": "code",
   "execution_count": 13,
   "metadata": {},
   "outputs": [
    {
     "data": {
      "text/plain": [
       "[('preparacion', 0.7639436721801758),\n",
       " ('separacion', 0.7531941533088684),\n",
       " ('instalacion', 0.7117644548416138),\n",
       " ('reparaci', 0.7051599025726318),\n",
       " ('aparacion', 0.7010459303855896),\n",
       " ('reparaciÓn', 0.694853663444519),\n",
       " ('construccion', 0.6879599094390869),\n",
       " ('proyectacion', 0.6811119318008423),\n",
       " ('vulcanizacion', 0.6728537082672119),\n",
       " ('reparación', 0.6715100407600403)]"
      ]
     },
     "execution_count": 13,
     "metadata": {},
     "output_type": "execute_result"
    }
   ],
   "source": [
    "vectors.most_similar(['reparacion']) #no son sinonimos, es lo más relacionado"
   ]
  },
  {
   "cell_type": "code",
   "execution_count": 4,
   "metadata": {},
   "outputs": [
    {
     "data": {
      "text/plain": [
       "[('morados', 0.909837007522583),\n",
       " ('rosado', 0.8575363755226135),\n",
       " ('naranjado', 0.8512965440750122),\n",
       " ('granate', 0.8431951403617859),\n",
       " ('moradas', 0.8426002860069275),\n",
       " ('saprissaverano', 0.8422887325286865),\n",
       " ('tibaseño', 0.8405038714408875),\n",
       " ('amarillo', 0.8404950499534607),\n",
       " ('rojiamarillo', 0.8391038179397583),\n",
       " ('escarlatas', 0.8383248448371887)]"
      ]
     },
     "execution_count": 4,
     "metadata": {},
     "output_type": "execute_result"
    }
   ],
   "source": [
    "#similares\n",
    "vectors.most_similar_cosmul(positive=['blanco','morado'],negative=['negro'])"
   ]
  },
  {
   "cell_type": "code",
   "execution_count": 5,
   "metadata": {},
   "outputs": [
    {
     "data": {
      "text/plain": [
       "[('actor', 1.0083186626434326),\n",
       " ('comediante', 0.9197690486907959),\n",
       " ('humorista', 0.891190230846405),\n",
       " ('realizador', 0.8877027034759521),\n",
       " ('showman', 0.8802926540374756),\n",
       " ('presentador', 0.8753964304924011),\n",
       " ('brolin', 0.8723752498626709),\n",
       " ('bailarín', 0.8712753057479858),\n",
       " ('histrión', 0.871121883392334),\n",
       " ('cineasta', 0.8708534836769104)]"
      ]
     },
     "execution_count": 5,
     "metadata": {},
     "output_type": "execute_result"
    }
   ],
   "source": [
    "vectors.most_similar_cosmul(positive=['actriz','hombre'],negative=['mujer'])"
   ]
  },
  {
   "cell_type": "code",
   "execution_count": 6,
   "metadata": {},
   "outputs": [
    {
     "data": {
      "text/plain": [
       "[('bogotá', 0.8662093877792358),\n",
       " ('medellín', 0.8564176559448242),\n",
       " ('manizales', 0.8541778326034546),\n",
       " ('tunja', 0.8533132076263428),\n",
       " ('cali', 0.8505082130432129),\n",
       " ('valledupar', 0.8481783270835876),\n",
       " ('bucaramanga', 0.8435908555984497),\n",
       " ('barrancabermeja', 0.837706446647644),\n",
       " ('neiva', 0.8370165824890137),\n",
       " ('popayán', 0.8358603119850159)]"
      ]
     },
     "execution_count": 6,
     "metadata": {},
     "output_type": "execute_result"
    }
   ],
   "source": [
    "vectors.most_similar_cosmul(positive=['santiago','colombia'],negative=['chile'])"
   ]
  },
  {
   "cell_type": "code",
   "execution_count": 7,
   "metadata": {},
   "outputs": [
    {
     "data": {
      "text/plain": [
       "[('alemania', 0.9837360978126526),\n",
       " ('potsdam', 0.8980396389961243),\n",
       " ('alemanis', 0.8974263668060303),\n",
       " ('rda', 0.8891286849975586),\n",
       " ('urss', 0.8718865513801575),\n",
       " ('alemanias', 0.8675631880760193),\n",
       " ('alemana', 0.8666577339172363),\n",
       " ('prusia', 0.8661035299301147),\n",
       " ('alemani', 0.8624575734138489),\n",
       " ('checoeslovaquia', 0.8621323108673096)]"
      ]
     },
     "execution_count": 7,
     "metadata": {},
     "output_type": "execute_result"
    }
   ],
   "source": [
    "vectors.most_similar_cosmul(positive=['chile','berlín'],negative=['santiago'])"
   ]
  },
  {
   "cell_type": "code",
   "execution_count": 8,
   "metadata": {},
   "outputs": [
    {
     "data": {
      "text/plain": [
       "[('ladrador', 1.056687355041504),\n",
       " ('gato', 1.0215984582901),\n",
       " ('cazador', 1.0089410543441772),\n",
       " ('oso', 0.9999772906303406),\n",
       " ('mastín', 0.990293025970459),\n",
       " ('cachorro', 0.9861527681350708),\n",
       " ('sabueso', 0.9820837378501892),\n",
       " ('ladrado', 0.9807214736938477),\n",
       " ('pastador', 0.9762880206108093),\n",
       " ('mordedor', 0.969318151473999)]"
      ]
     },
     "execution_count": 8,
     "metadata": {},
     "output_type": "execute_result"
    }
   ],
   "source": [
    "vectors.most_similar_cosmul(positive=['hombre','perro'],negative=['mujer'])"
   ]
  },
  {
   "cell_type": "code",
   "execution_count": 9,
   "metadata": {},
   "outputs": [
    {
     "data": {
      "text/plain": [
       "[('mutismo', 0.9370909333229065),\n",
       " ('silencios', 0.8795410394668579),\n",
       " ('silenciosidad', 0.8717765808105469),\n",
       " ('callados', 0.8514050245285034),\n",
       " ('sobrecogimiento', 0.848608672618866),\n",
       " ('silencioso', 0.8430758118629456),\n",
       " ('calladas', 0.8430061340332031),\n",
       " ('callado', 0.8409074544906616),\n",
       " ('silencia', 0.8395388722419739),\n",
       " ('guardaron', 0.8378739953041077)]"
      ]
     },
     "execution_count": 9,
     "metadata": {},
     "output_type": "execute_result"
    }
   ],
   "source": [
    "vectors.most_similar_cosmul(positive=['frio','silencio'],negative=['caliente']) "
   ]
  },
  {
   "cell_type": "code",
   "execution_count": null,
   "metadata": {},
   "outputs": [],
   "source": []
  }
 ],
 "metadata": {
  "kernelspec": {
   "display_name": "Python 3",
   "language": "python",
   "name": "python3"
  },
  "language_info": {
   "codemirror_mode": {
    "name": "ipython",
    "version": 3
   },
   "file_extension": ".py",
   "mimetype": "text/x-python",
   "name": "python",
   "nbconvert_exporter": "python",
   "pygments_lexer": "ipython3",
   "version": "3.7.3"
  }
 },
 "nbformat": 4,
 "nbformat_minor": 2
}
