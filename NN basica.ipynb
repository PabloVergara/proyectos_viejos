{
 "cells": [
  {
   "cell_type": "code",
   "execution_count": 1,
   "metadata": {},
   "outputs": [],
   "source": [
    "import numpy as np\n",
    "import matplotlib\n",
    "from matplotlib import pyplot as plt\n",
    "#from dfply import if_else\n",
    "# recordarle al gidi la shit de from dfply import * \n",
    "# test['CANTIDAD DE SINIESTROS']= if_else(test['capital siniestrado UF'] >0,1,0)\n",
    "%matplotlib inline"
   ]
  },
  {
   "cell_type": "code",
   "execution_count": 2,
   "metadata": {},
   "outputs": [],
   "source": [
    "data= [[1.81, 0.80, 0.44, 0],\n",
    "        [1.77, 0.70, 0.43, 0],\n",
    "        [1.60, 0.60, 0.38, 1],\n",
    "        [1.54, 0.54, 0.37, 1],\n",
    "        [1.66, 0.65, 0.40, 0],\n",
    "        [1.90, 0.90, 0.47, 0],\n",
    "        [1.75, 0.64, 0.39, 1],\n",
    "        [1.77, 0.70, 0.40, 1],\n",
    "        [1.59, 0.55, 0.37, 1],\n",
    "        [1.71, 0.75, 0.42, 0],\n",
    "        [1.81, 0.85, 0.43, 0]]"
   ]
  },
  {
   "cell_type": "code",
   "execution_count": 66,
   "metadata": {},
   "outputs": [],
   "source": [
    "def sigmoid(x) :\n",
    "    return 1/(1 + np.exp(-x))\n",
    "\n",
    "def sigmoid_p(x) :\n",
    "    return sigmoid(x) * (1-sigmoid(x))\n",
    "def relu(x):\n",
    "    return max(0,x)\n",
    "def relu_p(x):\n",
    "    if x>=0:\n",
    "        return 1\n",
    "    else:\n",
    "        return 0\n",
    "        \n",
    "learning_rate = 0.2\n",
    "n_iterations = 1000\n",
    "\n",
    "costs = []\n"
   ]
  },
  {
   "cell_type": "code",
   "execution_count": 82,
   "metadata": {},
   "outputs": [
    {
     "data": {
      "text/plain": [
       "[<matplotlib.lines.Line2D at 0x2a9d166f2e8>]"
      ]
     },
     "execution_count": 82,
     "metadata": {},
     "output_type": "execute_result"
    },
    {
     "data": {
      "image/png": "[encoded data removed]",
      "text/plain": [
       "<Figure size 432x288 with 1 Axes>"
      ]
     },
     "metadata": {
      "needs_background": "light"
     },
     "output_type": "display_data"
    }
   ],
   "source": [
    "# loop de entrenamiento\n",
    "\n",
    "learning_rate = 0.2\n",
    "n_iterations = 1000\n",
    "\n",
    "costs = []\n",
    "\n",
    "w1 = np.random.randn()\n",
    "w2 = np.random.randn()\n",
    "w3 = np.random.randn()\n",
    "w4 = np.random.randn()\n",
    "w5 = np.random.randn()\n",
    "b = np.random.randn()\n",
    "\n",
    "for i in range(n_iterations):\n",
    "    random_row = np.random.randint(len(data))\n",
    "    point = data[random_row]\n",
    "    \n",
    "    z = point[0] * w1 + point[1] * w2 + point[2] * w3 + b +  point[0]*point[1]*w4 + point[1]*point[2]*w5\n",
    "    prediction = relu(z)\n",
    "    \n",
    "    target = point[3]\n",
    "    cost = np.square(prediction - target)\n",
    "    \n",
    "    dcost_prediction = 2 * (prediction - target)\n",
    "    dprediction_dz = relu_p(z)\n",
    "    \n",
    "    dz_dw1 = point[0]\n",
    "    dz_dw2 = point[1]\n",
    "    dz_dw3 = point[2]\n",
    "    dz_dw4 = point[0]*point[1]\n",
    "    dz_dw5 = point[1]*point[2]\n",
    "    dz_db = 1\n",
    "    \n",
    "    dcost_dz = dcost_prediction * dprediction_dz\n",
    "    \n",
    "    dcost_dw1 = dcost_dz * dz_dw1\n",
    "    dcost_dw2 = dcost_dz * dz_dw2\n",
    "    dcost_dw3 = dcost_dz * dz_dw3\n",
    "    dcost_dw4 = dcost_dz * dz_dw4\n",
    "    dcost_dw5 = dcost_dz * dz_dw5\n",
    "    dcost_db = dcost_dz * dz_db\n",
    "    \n",
    "    w1 = w1 - learning_rate * dcost_dw1\n",
    "    w2 = w2 - learning_rate * dcost_dw2\n",
    "    w3 = w3 - learning_rate * dcost_dw3\n",
    "    w4 = w4 - learning_rate * dcost_dw4\n",
    "    w5 = w5 - learning_rate * dcost_dw5\n",
    "    b = b - learning_rate * dcost_db\n",
    "    \n",
    "    if i % 100 == 0 :\n",
    "        cost_sum = 0\n",
    "        for j in range(len(data)) :\n",
    "            point = data[random_row]\n",
    "            \n",
    "            z = point[0] * w1 + point[1] * w2 + point[2] * w3 + b +point[0]*point[1]*w4 + point[1]*point[2]*w5\n",
    "            prediction = sigmoid(z)\n",
    "            \n",
    "            target = point[3]\n",
    "            cost_sum += np.square(prediction - target)\n",
    "            \n",
    "        costs.append(cost_sum/len(data))\n",
    "\n",
    "plt.plot(costs)"
   ]
  },
  {
   "cell_type": "code",
   "execution_count": 83,
   "metadata": {},
   "outputs": [
    {
     "name": "stdout",
     "output_type": "stream",
     "text": [
      "[1.81, 0.8, 0.44, 0]\n",
      "predicción : 0.13468565754393272\n",
      "[1.77, 0.7, 0.43, 0]\n",
      "predicción : 0.16746846943747806\n",
      "[1.6, 0.6, 0.38, 1]\n",
      "predicción : 0.23512823076658015\n",
      "[1.54, 0.54, 0.37, 1]\n",
      "predicción : 0.26682350131606125\n",
      "[1.66, 0.65, 0.4, 0]\n",
      "predicción : 0.2047333857029474\n",
      "[1.9, 0.9, 0.47, 0]\n",
      "predicción : 0.09807250091763813\n",
      "[1.75, 0.64, 0.39, 1]\n",
      "predicción : 0.19928222183251398\n",
      "[1.77, 0.7, 0.4, 1]\n",
      "predicción : 0.1758532112124227\n",
      "[1.59, 0.55, 0.37, 1]\n",
      "predicción : 0.25664747887162026\n",
      "[1.71, 0.75, 0.42, 0]\n",
      "predicción : 0.16407683648013147\n",
      "[1.81, 0.85, 0.43, 0]\n",
      "predicción : 0.12550196889662066\n"
     ]
    }
   ],
   "source": [
    "for i in range(len(data)) :\n",
    "    point = data[i]\n",
    "    print(point)\n",
    "    \n",
    "    z = point[0] * w1 + point[1] * w2 + point[2] * w3 + b +  point[0]*point[1]*w4 + point[1]*point[2]*w5\n",
    "    prediction = sigmoid(z)\n",
    "    print(\"predicción : {}\" .format(prediction))"
   ]
  },
  {
   "cell_type": "code",
   "execution_count": 87,
   "metadata": {},
   "outputs": [],
   "source": [
    "def determinar_sexo(height, weight, shoe_size) :\n",
    "    z = height * w1 + weight * w2 + shoe_size * w3 + b  + height*weight*w4 + weight*shoe_size*w5\n",
    "    prediction = sigmoid(z)\n",
    "    if prediction < .5:\n",
    "        print('hombre')\n",
    "    else:\n",
    "        print('mujer')"
   ]
  },
  {
   "cell_type": "code",
   "execution_count": 88,
   "metadata": {},
   "outputs": [
    {
     "name": "stdout",
     "output_type": "stream",
     "text": [
      "hombre\n"
     ]
    }
   ],
   "source": [
    "determinar_sexo(1.63, 0.60, 0.37)"
   ]
  },
  {
   "cell_type": "code",
   "execution_count": 89,
   "metadata": {},
   "outputs": [
    {
     "name": "stdout",
     "output_type": "stream",
     "text": [
      "hombre\n"
     ]
    }
   ],
   "source": [
    "determinar_sexo(1.62, 0.49, 0.38)"
   ]
  },
  {
   "cell_type": "code",
   "execution_count": null,
   "metadata": {},
   "outputs": [],
   "source": []
  },
  {
   "cell_type": "code",
   "execution_count": null,
   "metadata": {},
   "outputs": [],
   "source": []
  }
 ],
 "metadata": {
  "kernelspec": {
   "display_name": "Python 3",
   "language": "python",
   "name": "python3"
  },
  "language_info": {
   "codemirror_mode": {
    "name": "ipython",
    "version": 3
   },
   "file_extension": ".py",
   "mimetype": "text/x-python",
   "name": "python",
   "nbconvert_exporter": "python",
   "pygments_lexer": "ipython3",
   "version": "3.7.3"
  }
 },
 "nbformat": 4,
 "nbformat_minor": 2
}
