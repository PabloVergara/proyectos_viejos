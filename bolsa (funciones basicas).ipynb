{
 "cells": [
  {
   "cell_type": "code",
   "execution_count": 20,
   "metadata": {},
   "outputs": [],
   "source": [
    "#Ganancia por compraventa en orionx\n",
    "def winx(x,y):\n",
    "    wpu=(y*(1-0.0039))-(x*(1+0.0039))\n",
    "    return wpu\n",
    "#Ganancia por monto de compraventa orionx\n",
    "def winxm(x,y,z):\n",
    "    wpm=(z/(x*(1+0.0039)))*winx(x,y)\n",
    "    return wpm\n",
    "#Ganancia por compraventa en Buda\n",
    "def winb(x,y):\n",
    "    wpu=(y*(1-0.008))-(x*(1+0.008))\n",
    "    return wpu  \n",
    "#Ganancia por monto de compraventa orionx\n",
    "def winbm(x,y,z):\n",
    "    wpm=(z/(x*(1+0.0039)))*winb(x,y)\n",
    "    return wpm"
   ]
  },
  {
   "cell_type": "code",
   "execution_count": 81,
   "metadata": {},
   "outputs": [],
   "source": [
    "#Arbitraje Buda-Orionx\n",
    "#debería considerar volatidad de la ultima hora en peor caso\n",
    "#solo para bitcoin\n",
    "def spreadbx(x,y,z):  #solo para bitcoin\n",
    "    bitcoins=(z/(x+0.008)) \n",
    "    comision=x*(0.0002)+bitcoins*0.0039\n",
    "    ypesimista=y*(1-0.01) #digamos que bajo un 1% en media hora\n",
    "    gananciaporbitcoin=(ypesimista-x-comision)\n",
    "    total=bitcoins*gananciaporbitcoin\n",
    "    return total\n",
    "def ciclo(x,y,z,w):\n",
    "    total=spreadbx(x,y,z)*w #es una aproximación tonta si consideramos que el mercado cambiara en 4 dias\n",
    "    return total\n",
    "    \n",
    "    \n",
    "    \n",
    "    "
   ]
  },
  {
   "cell_type": "code",
   "execution_count": 97,
   "metadata": {},
   "outputs": [
    {
     "data": {
      "text/plain": [
       "86718.3706860298"
      ]
     },
     "execution_count": 97,
     "metadata": {},
     "output_type": "execute_result"
    }
   ],
   "source": [
    "ciclo(6179317,6297110, 10000000,1)"
   ]
  },
  {
   "cell_type": "code",
   "execution_count": 98,
   "metadata": {},
   "outputs": [],
   "source": [
    "#https://es.hostadvice.com/tools/whois/#https://orionx.com/\n",
    "#El host es amazon cloud, la estrategía sería correr una vm en amazon, y buscar oportunidades"
   ]
  },
  {
   "cell_type": "code",
   "execution_count": null,
   "metadata": {},
   "outputs": [],
   "source": []
  }
 ],
 "metadata": {
  "kernelspec": {
   "display_name": "Deep Learning",
   "language": "python",
   "name": "deep_learning"
  },
  "language_info": {
   "codemirror_mode": {
    "name": "ipython",
    "version": 3
   },
   "file_extension": ".py",
   "mimetype": "text/x-python",
   "name": "python",
   "nbconvert_exporter": "python",
   "pygments_lexer": "ipython3",
   "version": "3.6.8"
  }
 },
 "nbformat": 4,
 "nbformat_minor": 2
}
